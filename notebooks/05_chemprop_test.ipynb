{
 "cells": [
  {
   "cell_type": "markdown",
   "metadata": {},
   "source": [
    "We want to test whether the neural network [chemprop](https://github.com/chemprop/chemprop) performs well at our classification task. \n",
    "Running this on a seperate conda instance that has chemprop installed. "
   ]
  },
  {
   "cell_type": "code",
   "execution_count": null,
   "metadata": {},
   "outputs": [
    {
     "name": "stdout",
     "output_type": "stream",
     "text": [
      " Manually truncated.\n"
     ]
    }
   ],
   "source": [
    "!cd .. && export PYTHONPATH=$PWD && chemprop_train --quiet --extra_metrics accuracy --data_path data/processed/smiles_to_receptor_one_hot.csv --dataset_type classification --save_dir models/chemprop_test/ "
   ]
  },
  {
   "cell_type": "markdown",
   "metadata": {},
   "source": [
    "Now that we have trained our neural net, let's see how it performed."
   ]
  },
  {
   "cell_type": "code",
   "execution_count": 9,
   "metadata": {},
   "outputs": [
    {
     "data": {
      "text/html": [
       "<div>\n",
       "<style scoped>\n",
       "    .dataframe tbody tr th:only-of-type {\n",
       "        vertical-align: middle;\n",
       "    }\n",
       "\n",
       "    .dataframe tbody tr th {\n",
       "        vertical-align: top;\n",
       "    }\n",
       "\n",
       "    .dataframe thead th {\n",
       "        text-align: right;\n",
       "    }\n",
       "</style>\n",
       "<table border=\"1\" class=\"dataframe\">\n",
       "  <thead>\n",
       "    <tr style=\"text-align: right;\">\n",
       "      <th></th>\n",
       "      <th>Task</th>\n",
       "      <th>Mean auc</th>\n",
       "      <th>Standard deviation auc</th>\n",
       "      <th>Fold 0 auc</th>\n",
       "      <th>Mean accuracy</th>\n",
       "      <th>Standard deviation accuracy</th>\n",
       "      <th>Fold 0 accuracy</th>\n",
       "    </tr>\n",
       "  </thead>\n",
       "  <tbody>\n",
       "    <tr>\n",
       "      <th>0</th>\n",
       "      <td>11-beta-hydroxysteroid dehydrogenase 1, 11-bet...</td>\n",
       "      <td>0.998428</td>\n",
       "      <td>0.0</td>\n",
       "      <td>0.998428</td>\n",
       "      <td>0.999102</td>\n",
       "      <td>0.0</td>\n",
       "      <td>0.999102</td>\n",
       "    </tr>\n",
       "    <tr>\n",
       "      <th>1</th>\n",
       "      <td>5-lipoxygenase activating protein</td>\n",
       "      <td>0.999995</td>\n",
       "      <td>0.0</td>\n",
       "      <td>0.999995</td>\n",
       "      <td>0.999858</td>\n",
       "      <td>0.0</td>\n",
       "      <td>0.999858</td>\n",
       "    </tr>\n",
       "    <tr>\n",
       "      <th>2</th>\n",
       "      <td>6-phosphofructo-2-kinase/fructose-2,6-bisphosp...</td>\n",
       "      <td>0.999979</td>\n",
       "      <td>0.0</td>\n",
       "      <td>0.999979</td>\n",
       "      <td>0.999953</td>\n",
       "      <td>0.0</td>\n",
       "      <td>0.999953</td>\n",
       "    </tr>\n",
       "    <tr>\n",
       "      <th>3</th>\n",
       "      <td>ALK tyrosine kinase receptor</td>\n",
       "      <td>0.999047</td>\n",
       "      <td>0.0</td>\n",
       "      <td>0.999047</td>\n",
       "      <td>0.998771</td>\n",
       "      <td>0.0</td>\n",
       "      <td>0.998771</td>\n",
       "    </tr>\n",
       "    <tr>\n",
       "      <th>4</th>\n",
       "      <td>Acetyl-CoA carboxylase 2, Acetyl-CoA carboxyla...</td>\n",
       "      <td>0.999986</td>\n",
       "      <td>0.0</td>\n",
       "      <td>0.999986</td>\n",
       "      <td>0.999811</td>\n",
       "      <td>0.0</td>\n",
       "      <td>0.999811</td>\n",
       "    </tr>\n",
       "  </tbody>\n",
       "</table>\n",
       "</div>"
      ],
      "text/plain": [
       "                                                Task  Mean auc  \\\n",
       "0  11-beta-hydroxysteroid dehydrogenase 1, 11-bet...  0.998428   \n",
       "1                  5-lipoxygenase activating protein  0.999995   \n",
       "2  6-phosphofructo-2-kinase/fructose-2,6-bisphosp...  0.999979   \n",
       "3                       ALK tyrosine kinase receptor  0.999047   \n",
       "4  Acetyl-CoA carboxylase 2, Acetyl-CoA carboxyla...  0.999986   \n",
       "\n",
       "   Standard deviation auc  Fold 0 auc  Mean accuracy  \\\n",
       "0                     0.0    0.998428       0.999102   \n",
       "1                     0.0    0.999995       0.999858   \n",
       "2                     0.0    0.999979       0.999953   \n",
       "3                     0.0    0.999047       0.998771   \n",
       "4                     0.0    0.999986       0.999811   \n",
       "\n",
       "   Standard deviation accuracy  Fold 0 accuracy  \n",
       "0                          0.0         0.999102  \n",
       "1                          0.0         0.999858  \n",
       "2                          0.0         0.999953  \n",
       "3                          0.0         0.998771  \n",
       "4                          0.0         0.999811  "
      ]
     },
     "execution_count": 9,
     "metadata": {},
     "output_type": "execute_result"
    }
   ],
   "source": [
    "import pandas as pd\n",
    "\n",
    "df = pd.read_csv(\"../models/chemprop_test/test_scores.csv\")\n",
    "df.head()"
   ]
  },
  {
   "cell_type": "code",
   "execution_count": 10,
   "metadata": {},
   "outputs": [
    {
     "data": {
      "text/html": [
       "<div>\n",
       "<style scoped>\n",
       "    .dataframe tbody tr th:only-of-type {\n",
       "        vertical-align: middle;\n",
       "    }\n",
       "\n",
       "    .dataframe tbody tr th {\n",
       "        vertical-align: top;\n",
       "    }\n",
       "\n",
       "    .dataframe thead th {\n",
       "        text-align: right;\n",
       "    }\n",
       "</style>\n",
       "<table border=\"1\" class=\"dataframe\">\n",
       "  <thead>\n",
       "    <tr style=\"text-align: right;\">\n",
       "      <th></th>\n",
       "      <th>Mean auc</th>\n",
       "      <th>Standard deviation auc</th>\n",
       "      <th>Fold 0 auc</th>\n",
       "      <th>Mean accuracy</th>\n",
       "      <th>Standard deviation accuracy</th>\n",
       "      <th>Fold 0 accuracy</th>\n",
       "    </tr>\n",
       "  </thead>\n",
       "  <tbody>\n",
       "    <tr>\n",
       "      <th>count</th>\n",
       "      <td>120.000000</td>\n",
       "      <td>120.0</td>\n",
       "      <td>120.000000</td>\n",
       "      <td>120.000000</td>\n",
       "      <td>120.0</td>\n",
       "      <td>120.000000</td>\n",
       "    </tr>\n",
       "    <tr>\n",
       "      <th>mean</th>\n",
       "      <td>0.996506</td>\n",
       "      <td>0.0</td>\n",
       "      <td>0.996506</td>\n",
       "      <td>0.997530</td>\n",
       "      <td>0.0</td>\n",
       "      <td>0.997530</td>\n",
       "    </tr>\n",
       "    <tr>\n",
       "      <th>std</th>\n",
       "      <td>0.004206</td>\n",
       "      <td>0.0</td>\n",
       "      <td>0.004206</td>\n",
       "      <td>0.003403</td>\n",
       "      <td>0.0</td>\n",
       "      <td>0.003403</td>\n",
       "    </tr>\n",
       "    <tr>\n",
       "      <th>min</th>\n",
       "      <td>0.971807</td>\n",
       "      <td>0.0</td>\n",
       "      <td>0.971807</td>\n",
       "      <td>0.982108</td>\n",
       "      <td>0.0</td>\n",
       "      <td>0.982108</td>\n",
       "    </tr>\n",
       "    <tr>\n",
       "      <th>25%</th>\n",
       "      <td>0.994863</td>\n",
       "      <td>0.0</td>\n",
       "      <td>0.994863</td>\n",
       "      <td>0.997246</td>\n",
       "      <td>0.0</td>\n",
       "      <td>0.997246</td>\n",
       "    </tr>\n",
       "    <tr>\n",
       "      <th>50%</th>\n",
       "      <td>0.997647</td>\n",
       "      <td>0.0</td>\n",
       "      <td>0.997647</td>\n",
       "      <td>0.998795</td>\n",
       "      <td>0.0</td>\n",
       "      <td>0.998795</td>\n",
       "    </tr>\n",
       "    <tr>\n",
       "      <th>75%</th>\n",
       "      <td>0.999528</td>\n",
       "      <td>0.0</td>\n",
       "      <td>0.999528</td>\n",
       "      <td>0.999551</td>\n",
       "      <td>0.0</td>\n",
       "      <td>0.999551</td>\n",
       "    </tr>\n",
       "    <tr>\n",
       "      <th>max</th>\n",
       "      <td>1.000000</td>\n",
       "      <td>0.0</td>\n",
       "      <td>1.000000</td>\n",
       "      <td>0.999976</td>\n",
       "      <td>0.0</td>\n",
       "      <td>0.999976</td>\n",
       "    </tr>\n",
       "  </tbody>\n",
       "</table>\n",
       "</div>"
      ],
      "text/plain": [
       "         Mean auc  Standard deviation auc  Fold 0 auc  Mean accuracy  \\\n",
       "count  120.000000                   120.0  120.000000     120.000000   \n",
       "mean     0.996506                     0.0    0.996506       0.997530   \n",
       "std      0.004206                     0.0    0.004206       0.003403   \n",
       "min      0.971807                     0.0    0.971807       0.982108   \n",
       "25%      0.994863                     0.0    0.994863       0.997246   \n",
       "50%      0.997647                     0.0    0.997647       0.998795   \n",
       "75%      0.999528                     0.0    0.999528       0.999551   \n",
       "max      1.000000                     0.0    1.000000       0.999976   \n",
       "\n",
       "       Standard deviation accuracy  Fold 0 accuracy  \n",
       "count                        120.0       120.000000  \n",
       "mean                           0.0         0.997530  \n",
       "std                            0.0         0.003403  \n",
       "min                            0.0         0.982108  \n",
       "25%                            0.0         0.997246  \n",
       "50%                            0.0         0.998795  \n",
       "75%                            0.0         0.999551  \n",
       "max                            0.0         0.999976  "
      ]
     },
     "execution_count": 10,
     "metadata": {},
     "output_type": "execute_result"
    }
   ],
   "source": [
    "df.describe()"
   ]
  },
  {
   "cell_type": "markdown",
   "metadata": {},
   "source": [
    "Mean accuracy of 0.9975, with a minimum accuracy of 0.9821. Looks like chemprop performs very well. "
   ]
  },
  {
   "cell_type": "code",
   "execution_count": 12,
   "metadata": {},
   "outputs": [],
   "source": [
    "!cd .. && echo $'smiles\\nCC(=O)OC1=CC=CC=C1C(=O)O\\nO=C1NC2=CC=C([N+]([O-])=O)C=C2C(C3=CC=CC=C3F)=NC1' > test.csv"
   ]
  },
  {
   "cell_type": "code",
   "execution_count": 13,
   "metadata": {},
   "outputs": [
    {
     "name": "stdout",
     "output_type": "stream",
     "text": [
      "WARNING:root:No normalization for BCUT2D_MWHI\n",
      "WARNING:root:No normalization for BCUT2D_MWLOW\n",
      "WARNING:root:No normalization for BCUT2D_CHGHI\n",
      "WARNING:root:No normalization for BCUT2D_CHGLO\n",
      "WARNING:root:No normalization for BCUT2D_LOGPHI\n",
      "WARNING:root:No normalization for BCUT2D_LOGPLOW\n",
      "WARNING:root:No normalization for BCUT2D_MRHI\n",
      "WARNING:root:No normalization for BCUT2D_MRLOW\n",
      "/home/ian/anaconda3/envs/target-chemprop/lib/python3.8/site-packages/tap/tap.py:312: UserWarning: add_arguments is deprecated and will be removed on January 1st, 2021 please override \"configure\" instead and call add_argument there. \n",
      "  warn('add_arguments is deprecated and will be removed on January 1st, 2021'\n",
      "Loading training args\n",
      "Loading data\n",
      "2it [00:00, 13273.11it/s]\n",
      "100%|██████████████████████████████████████████| 2/2 [00:00<00:00, 70492.50it/s]\n",
      "Validating SMILES\n",
      "Test size = 2\n",
      "Predicting with an ensemble of 1 models\n",
      "  0%|                                                     | 0/1 [00:00<?, ?it/s]Loading pretrained parameter \"encoder.encoder.0.cached_zero_vector\".\n",
      "Loading pretrained parameter \"encoder.encoder.0.W_i.weight\".\n",
      "Loading pretrained parameter \"encoder.encoder.0.W_h.weight\".\n",
      "Loading pretrained parameter \"encoder.encoder.0.W_o.weight\".\n",
      "Loading pretrained parameter \"encoder.encoder.0.W_o.bias\".\n",
      "Loading pretrained parameter \"ffn.1.weight\".\n",
      "Loading pretrained parameter \"ffn.1.bias\".\n",
      "Loading pretrained parameter \"ffn.4.weight\".\n",
      "Loading pretrained parameter \"ffn.4.bias\".\n",
      "Moving model to cuda\n",
      "\n",
      "  0%|                                                     | 0/1 [00:00<?, ?it/s]\u001b[A\n",
      "100%|█████████████████████████████████████████████| 1/1 [00:00<00:00,  4.02it/s]\u001b[A\n",
      "100%|█████████████████████████████████████████████| 1/1 [00:01<00:00,  1.49s/it]\u001b[A\n",
      "Saving predictions to test_preds.csv\n",
      "Elapsed time = 0:00:02\n"
     ]
    }
   ],
   "source": [
    "!cd .. && export PYTHONPATH=$PWD && chemprop_predict --test_path test.csv --checkpoint_dir models/chemprop_test/ --preds_path test_preds.csv"
   ]
  },
  {
   "cell_type": "code",
   "execution_count": 14,
   "metadata": {},
   "outputs": [
    {
     "name": "stdout",
     "output_type": "stream",
     "text": [
      "Cyclooxygenase-2, Cyclooxygenase-1                                                                                                                                                                                                                                                                               0.612759\n",
      "Carbonic anhydrase II, Carbonic anhydrase VA, Carbonic anhydrase IX, Carbonic anhydrase I, Carbonic anhydrase IV, Carbonic anhydrase VB, Carbonic anhydrase VI, Carbonic anhydrase VII, Carbonic anhydrase XII, Carbonic anhydrase XIV, Carbonic anhydrase III, Carbonic anhydrase XIII, Carbonic anhydrase 1    0.376249\n",
      "Histamine H1 receptor, Histamine H2 receptor, Histamine H3 receptor, Histamine H4 receptor                                                                                                                                                                                                                       0.013905\n",
      "Estrogen receptor alpha, Estrogen receptor beta                                                                                                                                                                                                                                                                  0.007575\n",
      "Arachidonate 5-lipoxygenase                                                                                                                                                                                                                                                                                      0.006216\n",
      "Name: CC(=O)OC1=CC=CC=C1C(=O)O, dtype: float64\n",
      "\n",
      "Monoamine oxidase B, Monoamine oxidase A                                                                                                                                                                                                                                                                                                                                                                                                                                                  0.463570\n",
      "Adenosine A1 receptor, Adenosine A3 receptor                                                                                                                                                                                                                                                                                                                                                                                                                                              0.057992\n",
      "Sodium channel protein type II alpha subunit, Sodium channel protein type IX alpha subunit, Sodium channel protein type IV alpha subunit, Sodium channel protein type XI alpha subunit                                                                                                                                                                                                                                                                                                    0.019428\n",
      "GABA-A receptor alpha-1/beta-3/gamma-2, GABA-A receptor alpha-1/beta-2/gamma-2, GABA A receptor alpha-2/beta-2/gamma-2, GABA A receptor alpha-1/beta-1/gamma-2, GABA-A receptor alpha-2/beta-3/gamma-2, GABA-A receptor alpha-3/beta-3/gamma-2, GABA-A receptor alpha-5/beta-3/gamma-2, GABA A receptor alpha-3/beta-2/gamma-2, GABA-A receptor alpha-1/beta-3, GABA-A receptor alpha-6/beta-3/gamma-2, GABA A receptor alpha-4/beta-3/gamma-2, GABA A receptor alpha-6/beta-2/gamma-2    0.016094\n",
      "Bromodomain-containing protein 4, Bromodomain-containing protein 2, Bromodomain-containing protein 3, Bromodomain-containing protein 9, Bromodomain-containing protein 1, Bromodomain-containing protein 7                                                                                                                                                                                                                                                                                0.013914\n",
      "Name: O=C1NC2=CC=C([N+]([O-])=O)C=C2C(C3=CC=CC=C3F)=NC1, dtype: float64\n",
      "\n"
     ]
    }
   ],
   "source": [
    "df = pd.read_csv(\"../test_preds.csv\")\n",
    "\n",
    "df.set_index(\"smiles\", inplace=True)\n",
    "\n",
    "for _, row in df.iterrows():\n",
    "    print(row.nlargest(5))\n",
    "    print()"
   ]
  },
  {
   "cell_type": "markdown",
   "metadata": {},
   "source": [
    "As we can see it identifies Asprin as acting on COX, and the experimental GABAergic NPS from the Predict NPS test set has GABA as the fourth most likely receptor. Not bad performance."
   ]
  },
  {
   "cell_type": "code",
   "execution_count": 15,
   "metadata": {},
   "outputs": [],
   "source": [
    "!cd .. && rm test.csv test_preds.csv"
   ]
  }
 ],
 "metadata": {
  "kernelspec": {
   "display_name": "Python 3",
   "language": "python",
   "name": "python3"
  },
  "language_info": {
   "codemirror_mode": {
    "name": "ipython",
    "version": 3
   },
   "file_extension": ".py",
   "mimetype": "text/x-python",
   "name": "python",
   "nbconvert_exporter": "python",
   "pygments_lexer": "ipython3",
   "version": "3.8.5"
  }
 },
 "nbformat": 4,
 "nbformat_minor": 4
}
